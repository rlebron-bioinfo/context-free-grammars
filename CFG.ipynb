{
  "nbformat": 4,
  "nbformat_minor": 0,
  "metadata": {
    "colab": {
      "name": "CFG.ipynb",
      "version": "0.3.2",
      "provenance": [],
      "collapsed_sections": []
    },
    "kernelspec": {
      "name": "python3",
      "display_name": "Python 3"
    }
  },
  "cells": [
    {
      "cell_type": "markdown",
      "metadata": {
        "id": "uFYbcwiRtAhV",
        "colab_type": "text"
      },
      "source": [
        "# Generating sentences from context-free grammars"
      ]
    },
    {
      "cell_type": "code",
      "metadata": {
        "id": "JKal0kX_sve8",
        "colab_type": "code",
        "colab": {}
      },
      "source": [
        "from nltk.parse.generate import generate, demo_grammar\n",
        "from nltk import CFG\n",
        "\n",
        "grammar = CFG.fromstring(demo_grammar)"
      ],
      "execution_count": 0,
      "outputs": []
    },
    {
      "cell_type": "code",
      "metadata": {
        "id": "FF0dMbahtSxP",
        "colab_type": "code",
        "colab": {
          "base_uri": "https://localhost:8080/",
          "height": 255
        },
        "outputId": "81e52a81-98a2-414d-9aea-e6c36340e9f9"
      },
      "source": [
        "print(grammar)"
      ],
      "execution_count": 3,
      "outputs": [
        {
          "output_type": "stream",
          "text": [
            "Grammar with 13 productions (start state = S)\n",
            "    S -> NP VP\n",
            "    NP -> Det N\n",
            "    PP -> P NP\n",
            "    VP -> 'slept'\n",
            "    VP -> 'saw' NP\n",
            "    VP -> 'walked' PP\n",
            "    Det -> 'the'\n",
            "    Det -> 'a'\n",
            "    N -> 'man'\n",
            "    N -> 'park'\n",
            "    N -> 'dog'\n",
            "    P -> 'in'\n",
            "    P -> 'with'\n"
          ],
          "name": "stdout"
        }
      ]
    },
    {
      "cell_type": "code",
      "metadata": {
        "id": "0yDKqEERtejG",
        "colab_type": "code",
        "colab": {
          "base_uri": "https://localhost:8080/",
          "height": 54
        },
        "outputId": "dc86c109-39d8-451c-8125-2e84bd6a732a"
      },
      "source": [
        "demo_grammar"
      ],
      "execution_count": 4,
      "outputs": [
        {
          "output_type": "execute_result",
          "data": {
            "text/plain": [
              "\"\\n  S -> NP VP\\n  NP -> Det N\\n  PP -> P NP\\n  VP -> 'slept' | 'saw' NP | 'walked' PP\\n  Det -> 'the' | 'a'\\n  N -> 'man' | 'park' | 'dog'\\n  P -> 'in' | 'with'\\n\""
            ]
          },
          "metadata": {
            "tags": []
          },
          "execution_count": 4
        }
      ]
    },
    {
      "cell_type": "code",
      "metadata": {
        "id": "eyJHvJuEtxYT",
        "colab_type": "code",
        "colab": {
          "base_uri": "https://localhost:8080/",
          "height": 170
        },
        "outputId": "d0401197-a876-41f3-ff74-6a3f37f08f6f"
      },
      "source": [
        "print(demo_grammar)"
      ],
      "execution_count": 5,
      "outputs": [
        {
          "output_type": "stream",
          "text": [
            "\n",
            "  S -> NP VP\n",
            "  NP -> Det N\n",
            "  PP -> P NP\n",
            "  VP -> 'slept' | 'saw' NP | 'walked' PP\n",
            "  Det -> 'the' | 'a'\n",
            "  N -> 'man' | 'park' | 'dog'\n",
            "  P -> 'in' | 'with'\n",
            "\n"
          ],
          "name": "stdout"
        }
      ]
    },
    {
      "cell_type": "code",
      "metadata": {
        "id": "IrKnCnUUt0lA",
        "colab_type": "code",
        "colab": {}
      },
      "source": [
        "my_grammar = \"\"\"\n",
        "S -> NP VP\n",
        "NP -> Det N\n",
        "PP -> P NP\n",
        "VP -> 'slept' | 'saw' NP | 'walked' PP\n",
        "Det -> 'the' | 'a'\n",
        "N -> 'man' | 'park' | 'dog'\n",
        "P -> 'in' | 'with'\n",
        "\"\"\"\n",
        "\n",
        "grammar = CFG.fromstring(my_grammar)"
      ],
      "execution_count": 0,
      "outputs": []
    },
    {
      "cell_type": "code",
      "metadata": {
        "id": "CYgGcs2hu0XD",
        "colab_type": "code",
        "colab": {
          "base_uri": "https://localhost:8080/",
          "height": 255
        },
        "outputId": "2ff9f4d0-843a-4d13-b51b-cda97fb6c77e"
      },
      "source": [
        "print(grammar)"
      ],
      "execution_count": 9,
      "outputs": [
        {
          "output_type": "stream",
          "text": [
            "Grammar with 13 productions (start state = S)\n",
            "    S -> NP VP\n",
            "    NP -> Det N\n",
            "    PP -> P NP\n",
            "    VP -> 'slept'\n",
            "    VP -> 'saw' NP\n",
            "    VP -> 'walked' PP\n",
            "    Det -> 'the'\n",
            "    Det -> 'a'\n",
            "    N -> 'man'\n",
            "    N -> 'park'\n",
            "    N -> 'dog'\n",
            "    P -> 'in'\n",
            "    P -> 'with'\n"
          ],
          "name": "stdout"
        }
      ]
    },
    {
      "cell_type": "code",
      "metadata": {
        "id": "L7GP-V7Eu3jD",
        "colab_type": "code",
        "colab": {
          "base_uri": "https://localhost:8080/",
          "height": 187
        },
        "outputId": "fc5c3212-342b-4187-c315-54ddf10bdfc2"
      },
      "source": [
        "for sentence in generate(grammar, n=10):\n",
        "    print(' '.join(sentence))"
      ],
      "execution_count": 10,
      "outputs": [
        {
          "output_type": "stream",
          "text": [
            "the man slept\n",
            "the man saw the man\n",
            "the man saw the park\n",
            "the man saw the dog\n",
            "the man saw a man\n",
            "the man saw a park\n",
            "the man saw a dog\n",
            "the man walked in the man\n",
            "the man walked in the park\n",
            "the man walked in the dog\n"
          ],
          "name": "stdout"
        }
      ]
    },
    {
      "cell_type": "code",
      "metadata": {
        "id": "YxpjeH0KvA1a",
        "colab_type": "code",
        "colab": {
          "base_uri": "https://localhost:8080/",
          "height": 255
        },
        "outputId": "f426cc85-1fd5-4da8-9f91-a0fe18569810"
      },
      "source": [
        "print(grammar)"
      ],
      "execution_count": 11,
      "outputs": [
        {
          "output_type": "stream",
          "text": [
            "Grammar with 13 productions (start state = S)\n",
            "    S -> NP VP\n",
            "    NP -> Det N\n",
            "    PP -> P NP\n",
            "    VP -> 'slept'\n",
            "    VP -> 'saw' NP\n",
            "    VP -> 'walked' PP\n",
            "    Det -> 'the'\n",
            "    Det -> 'a'\n",
            "    N -> 'man'\n",
            "    N -> 'park'\n",
            "    N -> 'dog'\n",
            "    P -> 'in'\n",
            "    P -> 'with'\n"
          ],
          "name": "stdout"
        }
      ]
    },
    {
      "cell_type": "code",
      "metadata": {
        "id": "jsVWXbBfvEfO",
        "colab_type": "code",
        "colab": {
          "base_uri": "https://localhost:8080/",
          "height": 187
        },
        "outputId": "73bcbd21-2a4b-42e3-c067-0ca292255213"
      },
      "source": [
        "for sentence in generate(grammar, n=10):\n",
        "    print(' '.join(sentence))"
      ],
      "execution_count": 12,
      "outputs": [
        {
          "output_type": "stream",
          "text": [
            "the man slept\n",
            "the man saw the man\n",
            "the man saw the park\n",
            "the man saw the dog\n",
            "the man saw a man\n",
            "the man saw a park\n",
            "the man saw a dog\n",
            "the man walked in the man\n",
            "the man walked in the park\n",
            "the man walked in the dog\n"
          ],
          "name": "stdout"
        }
      ]
    },
    {
      "cell_type": "code",
      "metadata": {
        "id": "N354H1_TvHhU",
        "colab_type": "code",
        "colab": {}
      },
      "source": [
        "my_grammar = \"\"\"\n",
        "S -> D SS D\n",
        "D -> '0' | '1' | '2' | '3' | '4' | '5' | '6' | '7' | '8' | '9'\n",
        "SS -> '+'\n",
        "\"\"\"\n",
        "\n",
        "grammar = CFG.fromstring(my_grammar)"
      ],
      "execution_count": 0,
      "outputs": []
    },
    {
      "cell_type": "code",
      "metadata": {
        "id": "sXlBQ9u3v4zG",
        "colab_type": "code",
        "colab": {
          "base_uri": "https://localhost:8080/",
          "height": 1000
        },
        "outputId": "71eb0606-f417-4332-fbc2-113ba0bfd407"
      },
      "source": [
        "for sentence in generate(grammar, n=100):\n",
        "    print(' '.join(sentence))"
      ],
      "execution_count": 19,
      "outputs": [
        {
          "output_type": "stream",
          "text": [
            "0 + 0\n",
            "0 + 1\n",
            "0 + 2\n",
            "0 + 3\n",
            "0 + 4\n",
            "0 + 5\n",
            "0 + 6\n",
            "0 + 7\n",
            "0 + 8\n",
            "0 + 9\n",
            "1 + 0\n",
            "1 + 1\n",
            "1 + 2\n",
            "1 + 3\n",
            "1 + 4\n",
            "1 + 5\n",
            "1 + 6\n",
            "1 + 7\n",
            "1 + 8\n",
            "1 + 9\n",
            "2 + 0\n",
            "2 + 1\n",
            "2 + 2\n",
            "2 + 3\n",
            "2 + 4\n",
            "2 + 5\n",
            "2 + 6\n",
            "2 + 7\n",
            "2 + 8\n",
            "2 + 9\n",
            "3 + 0\n",
            "3 + 1\n",
            "3 + 2\n",
            "3 + 3\n",
            "3 + 4\n",
            "3 + 5\n",
            "3 + 6\n",
            "3 + 7\n",
            "3 + 8\n",
            "3 + 9\n",
            "4 + 0\n",
            "4 + 1\n",
            "4 + 2\n",
            "4 + 3\n",
            "4 + 4\n",
            "4 + 5\n",
            "4 + 6\n",
            "4 + 7\n",
            "4 + 8\n",
            "4 + 9\n",
            "5 + 0\n",
            "5 + 1\n",
            "5 + 2\n",
            "5 + 3\n",
            "5 + 4\n",
            "5 + 5\n",
            "5 + 6\n",
            "5 + 7\n",
            "5 + 8\n",
            "5 + 9\n",
            "6 + 0\n",
            "6 + 1\n",
            "6 + 2\n",
            "6 + 3\n",
            "6 + 4\n",
            "6 + 5\n",
            "6 + 6\n",
            "6 + 7\n",
            "6 + 8\n",
            "6 + 9\n",
            "7 + 0\n",
            "7 + 1\n",
            "7 + 2\n",
            "7 + 3\n",
            "7 + 4\n",
            "7 + 5\n",
            "7 + 6\n",
            "7 + 7\n",
            "7 + 8\n",
            "7 + 9\n",
            "8 + 0\n",
            "8 + 1\n",
            "8 + 2\n",
            "8 + 3\n",
            "8 + 4\n",
            "8 + 5\n",
            "8 + 6\n",
            "8 + 7\n",
            "8 + 8\n",
            "8 + 9\n",
            "9 + 0\n",
            "9 + 1\n",
            "9 + 2\n",
            "9 + 3\n",
            "9 + 4\n",
            "9 + 5\n",
            "9 + 6\n",
            "9 + 7\n",
            "9 + 8\n",
            "9 + 9\n"
          ],
          "name": "stdout"
        }
      ]
    },
    {
      "cell_type": "markdown",
      "metadata": {
        "id": "ujMcpaLnxwHa",
        "colab_type": "text"
      },
      "source": [
        "http://www.nltk.org/howto/generate.html"
      ]
    },
    {
      "cell_type": "code",
      "metadata": {
        "id": "Ta9h9bRcyBvj",
        "colab_type": "code",
        "colab": {}
      },
      "source": [
        ""
      ],
      "execution_count": 0,
      "outputs": []
    },
    {
      "cell_type": "code",
      "metadata": {
        "id": "4xdAgSCTv6H6",
        "colab_type": "code",
        "colab": {}
      },
      "source": [
        ""
      ],
      "execution_count": 0,
      "outputs": []
    }
  ]
}